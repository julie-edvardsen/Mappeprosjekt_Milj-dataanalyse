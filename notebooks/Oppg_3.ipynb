{
 "cells": [
  {
   "cell_type": "code",
   "execution_count": 2,
   "metadata": {},
   "outputs": [
    {
     "name": "stderr",
     "output_type": "stream",
     "text": [
      "/Users/juliehe/Documents/Miljøanalyse/Mappeprosjekt_Milj-dataanalyse/gruppe_venv/lib/python3.13/site-packages/tqdm/auto.py:21: TqdmWarning: IProgress not found. Please update jupyter and ipywidgets. See https://ipywidgets.readthedocs.io/en/stable/user_install.html\n",
      "  from .autonotebook import tqdm as notebook_tqdm\n"
     ]
    }
   ],
   "source": [
    "import pandas as pd\n",
    "import kagglehub\n",
    "\n",
    "\n",
    "# Last ned datasettene\n",
    "pathGermany = kagglehub.dataset_download(\"l3llff/wind-power\")\n",
    "\n",
    "# Les inn CSV-filene som DataFrames\n",
    "df_germany = pd.read_csv(f\"{pathGermany}/data.csv\")\n"
   ]
  },
  {
   "cell_type": "markdown",
   "metadata": {},
   "source": [
    "Importerer det jeg trenger til oppgave 3, del 1"
   ]
  },
  {
   "cell_type": "code",
   "execution_count": 17,
   "metadata": {},
   "outputs": [
    {
     "name": "stdout",
     "output_type": "stream",
     "text": [
      "Ingen manglende dager\n"
     ]
    }
   ],
   "source": [
    "#Undersøker om det finnes manglede dager\n",
    "\n",
    "df_germany['dt'] = pd.to_datetime(df_germany['dt'], errors='coerce')\n",
    "\n",
    "df_germany['d'] = df_germany['dt'].dt.date\n",
    "\n",
    "alle_dager = pd.date_range(start=df_germany['d'].min(), end=df_germany['d'].max(), freq='d')\n",
    "manglende_dager = alle_dager.difference(df_germany['d'])\n",
    "\n",
    "if not manglende_dager.empty:\n",
    "    print(f\"Følgende dager mangler: {manglende_dager}\")\n",
    "else:\n",
    "    print(\"Ingen manglende dager\")\n"
   ]
  },
  {
   "cell_type": "markdown",
   "metadata": {},
   "source": [
    "Ser at det er ingen hele dager som mangler"
   ]
  },
  {
   "cell_type": "code",
   "execution_count": null,
   "metadata": {},
   "outputs": [
    {
     "name": "stdout",
     "output_type": "stream",
     "text": [
      "\n",
      "Følgende 15-minutters intervaller mangler:\n",
      "\n",
      "Manglende intervaller\n",
      "  2011-03-27 02:00:00\n",
      "  2011-03-27 02:15:00\n",
      "  2011-03-27 02:30:00\n",
      "  2011-03-27 02:45:00\n",
      "  2012-03-25 02:00:00\n",
      "  2012-03-25 02:15:00\n",
      "  2012-03-25 02:30:00\n",
      "  2012-03-25 02:45:00\n",
      "  2013-03-31 02:00:00\n",
      "  2013-03-31 02:15:00\n",
      "  2013-03-31 02:30:00\n",
      "  2013-03-31 02:45:00\n",
      "  2014-03-30 02:00:00\n",
      "  2014-03-30 02:15:00\n",
      "  2014-03-30 02:30:00\n",
      "  2014-03-30 02:45:00\n",
      "  2014-04-07 03:30:00\n",
      "  2014-06-20 14:45:00\n",
      "  2014-06-20 15:30:00\n",
      "  2014-06-25 11:30:00\n",
      "  2014-06-25 13:45:00\n",
      "  2014-06-25 14:15:00\n",
      "  2015-03-29 02:00:00\n",
      "  2015-03-29 02:15:00\n",
      "  2015-03-29 02:30:00\n",
      "  2015-03-29 02:45:00\n",
      "  2016-03-27 02:00:00\n",
      "  2016-03-27 02:15:00\n",
      "  2016-03-27 02:30:00\n",
      "  2016-03-27 02:45:00\n",
      "  2017-03-26 02:00:00\n",
      "  2017-03-26 02:15:00\n",
      "  2017-03-26 02:30:00\n",
      "  2017-03-26 02:45:00\n",
      "  2018-03-25 02:00:00\n",
      "  2018-03-25 02:15:00\n",
      "  2018-03-25 02:30:00\n",
      "  2018-03-25 02:45:00\n",
      "  2018-11-26 12:15:00\n",
      "  2018-11-26 12:30:00\n",
      "  2019-03-31 02:00:00\n",
      "  2019-03-31 02:15:00\n",
      "  2019-03-31 02:30:00\n",
      "  2019-03-31 02:45:00\n",
      "  2020-03-29 02:00:00\n",
      "  2020-03-29 02:15:00\n",
      "  2020-03-29 02:30:00\n",
      "  2020-03-29 02:45:00\n",
      "  2021-03-28 02:00:00\n",
      "  2021-03-28 02:15:00\n",
      "  2021-03-28 02:30:00\n",
      "  2021-03-28 02:45:00\n",
      "\n",
      "Antall manglende 15-minutters intervaller: 52\n",
      "\n",
      "Manglende intervaller er også lagret i 'manglende_intervaller.csv'.\n"
     ]
    },
    {
     "name": "stderr",
     "output_type": "stream",
     "text": [
      "/var/folders/8f/nwn4bqq56715k1k5jg6vggg00000gn/T/ipykernel_58094/1649451051.py:5: FutureWarning: 'T' is deprecated and will be removed in a future version, please use 'min' instead.\n",
      "  alle_intervaller = pd.date_range(start=df_germany['datetime'].min(),\n"
     ]
    }
   ],
   "source": [
    "\n",
    "#både dato og tid \n",
    "df_germany['datetime'] = df_germany['dt']\n",
    "\n",
    "# tidsrekke med 15-minutters intervaller\n",
    "alle_intervaller = pd.date_range(start=df_germany['datetime'].min(), \n",
    "                                 end=df_germany['datetime'].max(), \n",
    "                                 freq='15T')\n",
    "\n",
    "# Finner de manglende intervaller\n",
    "manglende_intervaller = alle_intervaller.difference(df_germany['datetime'])\n",
    "\n",
    "# Sjekker om det er noen manglende intervaller\n",
    "if not manglende_intervaller.empty:\n",
    "\n",
    "    # Lager en DataFrame for de manglende intervallene\n",
    "    manglende_intervaller_df = pd.DataFrame(manglende_intervaller, columns=['Manglende intervaller'])\n",
    "\n",
    "    print(\"\\nFølgende 15-minutters intervaller mangler:\\n\")\n",
    "    print(manglende_intervaller_df.to_string(index=False))  \n",
    "    print(f\"\\nAntall manglende 15-minutters intervaller: {len(manglende_intervaller_df)}\")\n",
    "    # Lagrer resultatet som en CSV-fil for videre bruk\n",
    "    manglende_intervaller_df.to_csv(\"manglende_intervaller.csv\", index=False)\n",
    "    print(\"\\nManglende intervaller er også lagret i 'manglende_intervaller.csv'.\")\n",
    "else:\n",
    "    print(\"Ingen manglende 15-minutters intervaller\") #Om det ikke er manglende verdier \n"
   ]
  },
  {
   "cell_type": "markdown",
   "metadata": {},
   "source": [
    "Nå ser vi at det er 52 15-minutters intervaller som mangler. \n",
    "\n"
   ]
  },
  {
   "cell_type": "code",
   "execution_count": 42,
   "metadata": {},
   "outputs": [
    {
     "name": "stderr",
     "output_type": "stream",
     "text": [
      "/var/folders/8f/nwn4bqq56715k1k5jg6vggg00000gn/T/ipykernel_58094/3006460994.py:5: FutureWarning: 'T' is deprecated and will be removed in a future version, please use 'min' instead.\n",
      "  alle_intervaller = pd.date_range(start=df_germany['dt'].min(),\n"
     ]
    },
    {
     "name": "stdout",
     "output_type": "stream",
     "text": [
      "Data med utfylte verdier er lagret som 'komplett_data_med_utfylte_mengder.csv'.\n"
     ]
    }
   ],
   "source": [
    "\n",
    "# Sorter dataene etter tid for å få riktig rekkefølge\n",
    "df_germany = df_germany.sort_values('dt').reset_index(drop=True)\n",
    "\n",
    "#tidsrekke med 15-minutters intervaller\n",
    "alle_intervaller = pd.date_range(start=df_germany['dt'].min(), \n",
    "                                 end=df_germany['dt'].max(), \n",
    "                                 freq='15T')\n",
    "\n",
    "# Finner manglende intervaller\n",
    "manglende_intervaller = alle_intervaller.difference(df_germany['dt'])\n",
    "\n",
    "# Lager en DataFrame for de manglende verdiene\n",
    "manglende_data = pd.DataFrame([\n",
    "    {\n",
    "        'dt': tidspunkt,\n",
    "        'MW': (df_germany.loc[df_germany['dt'] < tidspunkt, 'MW'].iloc[-1] +  \n",
    "               df_germany.loc[df_germany['dt'] > tidspunkt, 'MW'].iloc[0]) / 2\n",
    "    }\n",
    "    for tidspunkt in manglende_intervaller\n",
    "])\n",
    "\n",
    "# Setter verdiene sammen \n",
    "df_komplett = pd.concat([df_germany, manglende_data]).sort_values('dt').reset_index(drop=True)\n",
    "\n",
    "# Fjerner de siste 3 kolonnene hvis de eksisterer\n",
    "if df_komplett.shape[1] > 2:\n",
    "    df_komplett = df_komplett.iloc[:, :-2]\n",
    "\n",
    "# Lagre resultatet til CSV\n",
    "df_komplett.to_csv(\"komplett_data_med_utfylte_mengder.csv\", index=False)\n",
    "print(\"Data med utfylte verdier er lagret som 'komplett_data_med_utfylte_mengder.csv'.\")\n"
   ]
  },
  {
   "cell_type": "markdown",
   "metadata": {},
   "source": []
  },
  {
   "cell_type": "code",
   "execution_count": 44,
   "metadata": {},
   "outputs": [],
   "source": [
    "#Importerer den nye csv filen for å kunne bruke den videre:\n",
    "\n",
    "df_komplett = pd.read_csv(\"komplett_data_med_utfylte_mengder.csv\")\n",
    "#Konverter 'dt'-kolonnen tilbake til datetime-format\n",
    "df_komplett['dt'] = pd.to_datetime(df_komplett['dt'])\n"
   ]
  }
 ],
 "metadata": {
  "kernelspec": {
   "display_name": "gruppe_venv",
   "language": "python",
   "name": "python3"
  },
  "language_info": {
   "codemirror_mode": {
    "name": "ipython",
    "version": 3
   },
   "file_extension": ".py",
   "mimetype": "text/x-python",
   "name": "python",
   "nbconvert_exporter": "python",
   "pygments_lexer": "ipython3",
   "version": "3.13.1"
  }
 },
 "nbformat": 4,
 "nbformat_minor": 2
}
