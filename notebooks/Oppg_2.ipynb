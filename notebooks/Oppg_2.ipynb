{
 "cells": [
  {
   "cell_type": "code",
   "execution_count": 2,
   "metadata": {},
   "outputs": [],
   "source": [
    "import pandas as pd\n",
    "import kagglehub\n",
    "\n",
    "\n",
    "# Last ned datasettene\n",
    "pathGermany = kagglehub.dataset_download(\"l3llff/wind-power\")\n",
    "\n",
    "# Les inn CSV-filene som DataFrames\n",
    "df_germany = pd.read_csv(f\"{pathGermany}/data.csv\")"
   ]
  },
  {
   "cell_type": "markdown",
   "metadata": {},
   "source": []
  },
  {
   "cell_type": "code",
   "execution_count": 3,
   "metadata": {},
   "outputs": [
    {
     "name": "stdout",
     "output_type": "stream",
     "text": [
      "Data fra Tyskland:\n",
      "                    dt      MW\n",
      "0  2011-01-01 00:00:00  3416.0\n",
      "1  2011-01-01 00:15:00  4755.0\n",
      "2  2011-01-01 00:30:00  4939.0\n",
      "3  2011-01-01 00:45:00  4939.0\n",
      "4  2011-01-01 01:00:00  4998.0\n"
     ]
    }
   ],
   "source": [
    "# Sjekk de første radene for å forstå datastrukturen\n",
    "print(\"Data fra Tyskland:\")\n",
    "print(df_germany.head())"
   ]
  },
  {
   "cell_type": "markdown",
   "metadata": {},
   "source": []
  },
  {
   "cell_type": "code",
   "execution_count": 4,
   "metadata": {},
   "outputs": [
    {
     "name": "stdout",
     "output_type": "stream",
     "text": [
      "dt    2019-07-22 15:15:00\n",
      "MW                1885.91\n",
      "Name: 299959, dtype: object\n"
     ]
    }
   ],
   "source": [
    "# Konverter 'dt'-kolonnen til datetime-format\n",
    "df_germany['dt'] = pd.to_datetime(df_germany['dt'], errors='coerce')\n",
    "\n",
    "#Dato og MW fra en spesifikk selvvalgt rad \n",
    "print(df_germany.iloc[299959][['dt', 'MW']])"
   ]
  },
  {
   "cell_type": "markdown",
   "metadata": {},
   "source": []
  },
  {
   "cell_type": "code",
   "execution_count": 5,
   "metadata": {},
   "outputs": [
    {
     "name": "stdout",
     "output_type": "stream",
     "text": [
      "MW-verdien kl. 05:00 den 20.03.2015 er: 132.0 MW\n"
     ]
    }
   ],
   "source": [
    "# Filtrer data for spesifikk dato og tid\n",
    "target_time = '2015-03-20 05:00:00'\n",
    "mw_value = df_germany.loc[df_germany['dt'] == target_time, 'MW'].values\n",
    "# Sjekk om verdien ble funnet\n",
    "if len(mw_value) > 0:\n",
    "    print(f\"MW-verdien kl. 05:00 den 20.03.2015 er: {mw_value[0]} MW\")\n",
    "else:\n",
    "    print(\"Ingen data funnet for denne datoen og klokkeslettet.\")"
   ]
  },
  {
   "cell_type": "markdown",
   "metadata": {},
   "source": []
  },
  {
   "cell_type": "code",
   "execution_count": 7,
   "metadata": {},
   "outputs": [
    {
     "name": "stdout",
     "output_type": "stream",
     "text": [
      "Antall ganger MW er under 100: 8815\n"
     ]
    }
   ],
   "source": [
    "#Eksempel om jeg vil skrive ut hvor mange ganger MW verdien går under 100:\n",
    "# Filtrer ut verdier som er under 100\n",
    "mw_under_100_count = (df_germany['MW'] < 100).sum()\n",
    "# Vis resultatet\n",
    "print(f\"Antall ganger MW er under 100: {mw_under_100_count}\")"
   ]
  },
  {
   "cell_type": "markdown",
   "metadata": {},
   "source": []
  },
  {
   "cell_type": "code",
   "execution_count": 6,
   "metadata": {},
   "outputs": [
    {
     "name": "stdout",
     "output_type": "stream",
     "text": [
      "                 dt    MW\n",
      "2021-12-21 12:45:00 96.13\n",
      "2021-12-21 13:00:00 81.28\n",
      "2021-12-21 13:15:00 75.77\n",
      "2021-12-21 13:30:00 64.05\n",
      "2021-12-21 13:45:00 60.27\n",
      "2021-12-21 14:00:00 51.33\n",
      "2021-12-21 14:15:00 50.40\n",
      "2021-12-21 14:30:00 46.74\n",
      "2021-12-21 14:45:00 44.55\n",
      "2021-12-21 15:00:00 37.79\n",
      "2021-12-21 15:15:00 42.52\n",
      "2021-12-21 15:30:00 40.44\n",
      "2021-12-21 15:45:00 44.59\n",
      "2021-12-21 16:00:00 44.34\n",
      "2021-12-21 16:15:00 45.56\n",
      "2021-12-21 16:30:00 47.81\n",
      "2021-12-21 16:45:00 54.15\n",
      "2021-12-21 17:00:00 56.11\n",
      "2021-12-21 17:15:00 59.57\n",
      "2021-12-21 17:30:00 59.44\n",
      "2021-12-21 17:45:00 57.28\n",
      "2021-12-21 18:00:00 66.89\n",
      "2021-12-21 18:15:00 64.95\n",
      "2021-12-21 18:30:00 75.46\n",
      "2021-12-21 18:45:00 86.89\n",
      "2021-12-21 19:00:00 92.34\n",
      "2021-12-21 19:15:00 90.09\n",
      "2021-12-21 19:30:00 97.38\n",
      "2021-12-21 20:00:00 92.05\n",
      "2021-12-21 20:15:00 89.79\n",
      "2021-12-21 20:30:00 98.10\n"
     ]
    },
    {
     "name": "stderr",
     "output_type": "stream",
     "text": [
      "/var/folders/8f/nwn4bqq56715k1k5jg6vggg00000gn/T/ipykernel_48855/2484563436.py:2: UserWarning: Boolean Series key will be reindexed to match DataFrame index.\n",
      "  filtered_data = df_germany.iloc[-5000:][df_germany['MW'] < 100][['dt', 'MW']]\n"
     ]
    }
   ],
   "source": [
    "\n",
    "# Filtrer de siste 5000 radene og velg rader der MW < 100\n",
    "filtered_data = df_germany.iloc[-5000:][df_germany['MW'] < 100][['dt', 'MW']]\n",
    "# Vis resultatet som en pent formatert tabell\n",
    "print(filtered_data.to_string(index=False))  # For en ryddig terminalvisning\n"
   ]
  },
  {
   "cell_type": "markdown",
   "metadata": {},
   "source": []
  },
  {
   "cell_type": "code",
   "execution_count": 10,
   "metadata": {},
   "outputs": [
    {
     "name": "stdout",
     "output_type": "stream",
     "text": [
      "[(Timestamp('2021-12-21 12:45:00'), 96.13), (Timestamp('2021-12-21 13:00:00'), 81.28), (Timestamp('2021-12-21 13:15:00'), 75.77), (Timestamp('2021-12-21 13:30:00'), 64.05), (Timestamp('2021-12-21 13:45:00'), 60.27), (Timestamp('2021-12-21 14:00:00'), 51.33), (Timestamp('2021-12-21 14:15:00'), 50.4), (Timestamp('2021-12-21 14:30:00'), 46.74), (Timestamp('2021-12-21 14:45:00'), 44.55), (Timestamp('2021-12-21 15:00:00'), 37.79), (Timestamp('2021-12-21 15:15:00'), 42.52), (Timestamp('2021-12-21 15:30:00'), 40.44), (Timestamp('2021-12-21 15:45:00'), 44.59), (Timestamp('2021-12-21 16:00:00'), 44.34), (Timestamp('2021-12-21 16:15:00'), 45.56), (Timestamp('2021-12-21 16:30:00'), 47.81), (Timestamp('2021-12-21 16:45:00'), 54.15), (Timestamp('2021-12-21 17:00:00'), 56.11), (Timestamp('2021-12-21 17:15:00'), 59.57), (Timestamp('2021-12-21 17:30:00'), 59.44), (Timestamp('2021-12-21 17:45:00'), 57.28), (Timestamp('2021-12-21 18:00:00'), 66.89), (Timestamp('2021-12-21 18:15:00'), 64.95), (Timestamp('2021-12-21 18:30:00'), 75.46), (Timestamp('2021-12-21 18:45:00'), 86.89), (Timestamp('2021-12-21 19:00:00'), 92.34), (Timestamp('2021-12-21 19:15:00'), 90.09), (Timestamp('2021-12-21 19:30:00'), 97.38), (Timestamp('2021-12-21 20:00:00'), 92.05), (Timestamp('2021-12-21 20:15:00'), 89.79), (Timestamp('2021-12-21 20:30:00'), 98.1)]\n"
     ]
    }
   ],
   "source": [
    "#List comprehensions\n",
    "mw_values = [(row['dt'], row['MW']) for _, row in df_germany.iloc[-5000:].iterrows() if row['MW'] < 100]\n",
    "# Vis resultatet\n",
    "print(mw_values)"
   ]
  },
  {
   "cell_type": "markdown",
   "metadata": {},
   "source": []
  },
  {
   "cell_type": "code",
   "execution_count": 22,
   "metadata": {},
   "outputs": [
    {
     "name": "stdout",
     "output_type": "stream",
     "text": [
      "                     dt    MW\n",
      "901 2011-01-10 09:15:00  44.0\n"
     ]
    }
   ],
   "source": [
    "#Iritator for å finne første forekomst der MW < 50\n",
    "chunk_iter = pd.read_csv(f\"{pathGermany}/data.csv\", chunksize=1000)\n",
    "# Finn første rad der MW er under 50\n",
    "for chunk in chunk_iter:\n",
    "    chunk['dt'] = pd.to_datetime(chunk['dt'], errors='coerce')  # Konverter 'dt' til datetime\n",
    "    result = chunk[chunk['MW'] < 50]\n",
    "    if not result.empty:\n",
    "        print(result[['dt', 'MW']].head(1))\n",
    "        break  # Stopper når første treff er funnet"
   ]
  },
  {
   "cell_type": "markdown",
   "metadata": {},
   "source": []
  },
  {
   "cell_type": "code",
   "execution_count": 12,
   "metadata": {},
   "outputs": [
    {
     "name": "stdout",
     "output_type": "stream",
     "text": [
      "                        dt    MW\n",
      "146935 2015-03-11 13:45:00  94.0\n",
      "146936 2015-03-11 14:00:00  88.0\n",
      "146937 2015-03-11 14:15:00  83.0\n",
      "146938 2015-03-11 14:30:00  93.0\n",
      "146939 2015-03-11 14:45:00  64.0\n",
      "146940 2015-03-11 15:00:00  18.0\n",
      "146941 2015-03-11 15:15:00  55.0\n",
      "146942 2015-03-11 15:30:00  18.0\n",
      "146943 2015-03-11 15:45:00  81.0\n",
      "146944 2015-03-11 16:00:00  91.0\n",
      "146945 2015-03-11 16:15:00  90.0\n",
      "146946 2015-03-11 16:30:00  89.0\n",
      "146947 2015-03-11 16:45:00  59.0\n",
      "147749 2015-03-20 01:15:00  91.0\n",
      "147750 2015-03-20 01:30:00  87.0\n",
      "147751 2015-03-20 01:45:00  80.0\n",
      "147752 2015-03-20 02:00:00  78.0\n",
      "147753 2015-03-20 02:15:00  78.0\n",
      "147754 2015-03-20 02:30:00  86.0\n",
      "147755 2015-03-20 02:45:00  89.0\n",
      "147756 2015-03-20 03:00:00  90.0\n",
      "147757 2015-03-20 03:15:00  92.0\n",
      "147758 2015-03-20 03:30:00  97.0\n",
      "147759 2015-03-20 03:45:00  95.0\n",
      "147783 2015-03-20 09:45:00  94.0\n",
      "147784 2015-03-20 10:00:00  87.0\n",
      "147785 2015-03-20 10:15:00  72.0\n",
      "147786 2015-03-20 10:30:00  61.0\n",
      "147787 2015-03-20 10:45:00  65.0\n",
      "147788 2015-03-20 11:00:00  74.0\n",
      "147789 2015-03-20 11:15:00  96.0\n"
     ]
    }
   ],
   "source": [
    "#SQL - inspirert spørring for MW < 100 på spesifikke datoer \n",
    "# Filtrer data med Pandas SQL (query)\n",
    "filtered_data = df_germany.query(\"MW < 100 and dt >= '2015-03-01' and dt <= '2015-03-31'\")\n",
    "# Vis resultatet\n",
    "print(filtered_data[['dt', 'MW']])"
   ]
  },
  {
   "cell_type": "markdown",
   "metadata": {},
   "source": []
  },
  {
   "cell_type": "code",
   "execution_count": 20,
   "metadata": {},
   "outputs": [
    {
     "name": "stdout",
     "output_type": "stream",
     "text": [
      "                      Dato      MW\n",
      "0      2011-01-02 00:15:00   66.00\n",
      "1      2011-01-02 00:30:00   70.00\n",
      "2      2011-01-02 00:45:00   79.00\n",
      "3      2011-01-02 01:00:00   79.00\n",
      "4      2011-01-02 01:15:00   85.00\n",
      "...                    ...     ...\n",
      "43725  2021-12-22 00:15:00  248.50\n",
      "43726  2021-12-22 00:30:00  260.55\n",
      "43727  2021-12-22 00:45:00  283.06\n",
      "43728  2021-12-22 01:00:00  308.77\n",
      "43729  2021-12-22 01:15:00  342.49\n",
      "\n",
      "[43730 rows x 2 columns]\n"
     ]
    }
   ],
   "source": [
    "# Iterator for å lese store datasett effektivt\n",
    "chunk_iter = pd.read_csv(f\"{pathGermany}/data.csv\", chunksize=1000)\n",
    "\n",
    "# List comprehension for å hente MW < 400 (MW) med dato (dt)\n",
    "filtered_data = [\n",
    "    {'Dato': row['dt'], 'MW': row['MW']}\n",
    "    for chunk in chunk_iter\n",
    "    for _, row in chunk.query(\"MW < 400\").iterrows()\n",
    "]\n",
    "\n",
    "# Konverter listen til en ryddig DataFrame\n",
    "filtered_df = pd.DataFrame(filtered_data)\n",
    "\n",
    "# Vis tabellen\n",
    "print(filtered_df)\n",
    "\n"
   ]
  },
  {
   "cell_type": "markdown",
   "metadata": {},
   "source": []
  }
 ],
 "metadata": {
  "kernelspec": {
   "display_name": "gruppe_venv",
   "language": "python",
   "name": "python3"
  },
  "language_info": {
   "codemirror_mode": {
    "name": "ipython",
    "version": 3
   },
   "file_extension": ".py",
   "mimetype": "text/x-python",
   "name": "python",
   "nbconvert_exporter": "python",
   "pygments_lexer": "ipython3",
   "version": "3.13.1"
  }
 },
 "nbformat": 4,
 "nbformat_minor": 2
}
