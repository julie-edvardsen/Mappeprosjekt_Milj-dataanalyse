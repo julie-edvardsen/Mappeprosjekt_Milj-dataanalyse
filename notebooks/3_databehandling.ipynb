{
 "cells": [
  {
   "cell_type": "code",
   "execution_count": 11,
   "metadata": {},
   "outputs": [
    {
     "name": "stdout",
     "output_type": "stream",
     "text": [
      "Ingen manglende dager\n"
     ]
    }
   ],
   "source": [
    "%run manglende_dager.py"
   ]
  },
  {
   "cell_type": "markdown",
   "metadata": {},
   "source": [
    "Over ser man at det ikke finnes noen manglende hele dager i tabellen"
   ]
  },
  {
   "cell_type": "code",
   "execution_count": 12,
   "metadata": {},
   "outputs": [
    {
     "name": "stdout",
     "output_type": "stream",
     "text": [
      "\n",
      "Følgende 15-minutters intervaller mangler:\n",
      "\n",
      "                  datetime   MW\n",
      "2011-03-27 02:00:00.000000 None\n",
      "2011-03-27 02:15:00.000000 None\n",
      "2011-03-27 02:30:00.000000 None\n",
      "2011-03-27 02:45:00.000000 None\n",
      "2012-03-25 02:00:00.000000 None\n",
      "2012-03-25 02:15:00.000000 None\n",
      "2012-03-25 02:30:00.000000 None\n",
      "2012-03-25 02:45:00.000000 None\n",
      "2013-03-31 02:00:00.000000 None\n",
      "2013-03-31 02:15:00.000000 None\n",
      "2013-03-31 02:30:00.000000 None\n",
      "2013-03-31 02:45:00.000000 None\n",
      "2014-03-30 02:00:00.000000 None\n",
      "2014-03-30 02:15:00.000000 None\n",
      "2014-03-30 02:30:00.000000 None\n",
      "2014-03-30 02:45:00.000000 None\n",
      "2014-04-07 03:30:00.000000 None\n",
      "2014-06-20 14:45:00.000000 None\n",
      "2014-06-20 15:30:00.000000 None\n",
      "2014-06-25 11:30:00.000000 None\n",
      "2014-06-25 13:45:00.000000 None\n",
      "2014-06-25 14:15:00.000000 None\n",
      "2015-03-29 02:00:00.000000 None\n",
      "2015-03-29 02:15:00.000000 None\n",
      "2015-03-29 02:30:00.000000 None\n",
      "2015-03-29 02:45:00.000000 None\n",
      "2016-03-27 02:00:00.000000 None\n",
      "2016-03-27 02:15:00.000000 None\n",
      "2016-03-27 02:30:00.000000 None\n",
      "2016-03-27 02:45:00.000000 None\n",
      "2017-03-26 02:00:00.000000 None\n",
      "2017-03-26 02:15:00.000000 None\n",
      "2017-03-26 02:30:00.000000 None\n",
      "2017-03-26 02:45:00.000000 None\n",
      "2018-03-25 02:00:00.000000 None\n",
      "2018-03-25 02:15:00.000000 None\n",
      "2018-03-25 02:30:00.000000 None\n",
      "2018-03-25 02:45:00.000000 None\n",
      "2018-11-26 12:15:00.000000 None\n",
      "2018-11-26 12:30:00.000000 None\n",
      "2019-03-31 02:00:00.000000 None\n",
      "2019-03-31 02:15:00.000000 None\n",
      "2019-03-31 02:30:00.000000 None\n",
      "2019-03-31 02:45:00.000000 None\n",
      "2020-03-29 02:00:00.000000 None\n",
      "2020-03-29 02:15:00.000000 None\n",
      "2020-03-29 02:30:00.000000 None\n",
      "2020-03-29 02:45:00.000000 None\n",
      "2021-03-28 02:00:00.000000 None\n",
      "2021-03-28 02:15:00.000000 None\n",
      "2021-03-28 02:30:00.000000 None\n",
      "2021-03-28 02:45:00.000000 None\n",
      "\n",
      "Antall manglende 15-minutters intervaller: 52\n",
      "\n",
      "Manglende intervaller er også lagret i 'manglende_intervaller.csv'.\n"
     ]
    }
   ],
   "source": [
    "%run manglende_15intervaller.py"
   ]
  },
  {
   "cell_type": "markdown",
   "metadata": {},
   "source": [
    "Over ser man at det finnes 52 manglende 15 minutters intervaller i datasettet. Dataen blir lagret i en ny csv fil for videre bruk."
   ]
  },
  {
   "cell_type": "code",
   "execution_count": 13,
   "metadata": {},
   "outputs": [
    {
     "name": "stdout",
     "output_type": "stream",
     "text": [
      "Følgende datoer og tidspunkter forekommer flere ganger:\n",
      "                 dt       MW\n",
      "2011-10-30 02:00:00  1034.00\n",
      "2011-10-30 02:00:00  1159.00\n",
      "2011-10-30 02:15:00  1012.00\n",
      "2011-10-30 02:15:00  1110.00\n",
      "2011-10-30 02:30:00  1078.00\n",
      "2011-10-30 02:30:00   974.00\n",
      "2011-10-30 02:45:00  1059.00\n",
      "2011-10-30 02:45:00  1025.00\n",
      "2012-10-28 02:00:00  1582.00\n",
      "2012-10-28 02:00:00  1542.00\n",
      "2012-10-28 02:15:00  1631.00\n",
      "2012-10-28 02:15:00  1437.00\n",
      "2012-10-28 02:30:00  1523.00\n",
      "2012-10-28 02:30:00  1631.00\n",
      "2012-10-28 02:45:00  1373.00\n",
      "2012-10-28 02:45:00  1501.00\n",
      "2013-10-27 02:00:00  3675.00\n",
      "2013-10-27 02:00:00  3759.00\n",
      "2013-10-27 02:15:00  3669.00\n",
      "2013-10-27 02:15:00  3759.00\n",
      "2013-10-27 02:30:00  3650.00\n",
      "2013-10-27 02:30:00  3858.00\n",
      "2013-10-27 02:45:00  3687.00\n",
      "2013-10-27 02:45:00  3723.00\n",
      "2014-04-07 03:15:00  1251.00\n",
      "2014-04-07 03:15:00  1309.00\n",
      "2014-06-20 14:00:00  4530.00\n",
      "2014-06-20 14:00:00  4412.00\n",
      "2014-06-20 15:00:00  4528.00\n",
      "2014-06-20 15:00:00  4577.00\n",
      "2014-06-25 11:00:00   760.00\n",
      "2014-06-25 11:00:00   709.00\n",
      "2014-06-25 12:15:00   873.00\n",
      "2014-06-25 12:15:00   882.00\n",
      "2014-06-25 14:00:00  1014.00\n",
      "2014-06-25 14:00:00  1213.00\n",
      "2014-10-26 02:00:00   820.00\n",
      "2014-10-26 02:00:00   674.00\n",
      "2014-10-26 02:15:00   750.00\n",
      "2014-10-26 02:15:00   677.00\n",
      "2014-10-26 02:30:00   727.00\n",
      "2014-10-26 02:30:00   702.00\n",
      "2014-10-26 02:45:00   721.00\n",
      "2014-10-26 02:45:00   745.00\n",
      "2015-10-25 02:00:00  2164.00\n",
      "2015-10-25 02:00:00  2179.00\n",
      "2015-10-25 02:15:00  2191.00\n",
      "2015-10-25 02:15:00  2165.00\n",
      "2015-10-25 02:30:00  2203.00\n",
      "2015-10-25 02:30:00  2185.00\n",
      "2015-10-25 02:45:00  2152.00\n",
      "2015-10-25 02:45:00  2188.00\n",
      "2016-10-30 02:00:00  4781.39\n",
      "2016-10-30 02:00:00  5180.78\n",
      "2016-10-30 02:15:00  4798.84\n",
      "2016-10-30 02:15:00  5056.00\n",
      "2016-10-30 02:30:00  4988.02\n",
      "2016-10-30 02:30:00  4787.09\n",
      "2016-10-30 02:45:00  4904.40\n",
      "2016-10-30 02:45:00  4806.30\n",
      "2017-10-29 02:00:00 11062.03\n",
      "2017-10-29 02:00:00 10960.44\n",
      "2017-10-29 02:15:00 10732.93\n",
      "2017-10-29 02:15:00 10880.56\n",
      "2017-10-29 02:30:00 10558.00\n",
      "2017-10-29 02:30:00 10882.95\n",
      "2017-10-29 02:45:00 11095.85\n",
      "2017-10-29 02:45:00 10956.68\n",
      "2018-10-28 02:00:00  2269.55\n",
      "2018-10-28 02:00:00  2372.62\n",
      "2018-10-28 02:15:00  2246.94\n",
      "2018-10-28 02:15:00  2258.50\n",
      "2018-10-28 02:30:00  2237.97\n",
      "2018-10-28 02:30:00  2336.87\n",
      "2018-10-28 02:45:00  2451.61\n",
      "2018-10-28 02:45:00  2256.18\n",
      "2019-10-27 02:00:00 11084.66\n",
      "2019-10-27 02:00:00 11378.25\n",
      "2019-10-27 02:15:00 11594.30\n",
      "2019-10-27 02:15:00 10788.39\n",
      "2019-10-27 02:30:00 11710.08\n",
      "2019-10-27 02:30:00 10946.57\n",
      "2019-10-27 02:45:00 11177.34\n",
      "2019-10-27 02:45:00 11437.32\n",
      "2020-10-25 02:00:00  7732.16\n",
      "2020-10-25 02:00:00  7675.83\n",
      "2020-10-25 02:15:00  7675.04\n",
      "2020-10-25 02:15:00  7768.67\n",
      "2020-10-25 02:30:00  7619.95\n",
      "2020-10-25 02:30:00  7738.92\n",
      "2020-10-25 02:45:00  7714.30\n",
      "2020-10-25 02:45:00  7623.47\n",
      "2021-10-31 02:00:00  7803.94\n",
      "2021-10-31 02:00:00  8005.88\n",
      "2021-10-31 02:15:00  7692.00\n",
      "2021-10-31 02:15:00  7905.88\n",
      "2021-10-31 02:30:00  7359.39\n",
      "2021-10-31 02:30:00  7831.52\n",
      "2021-10-31 02:45:00  7286.75\n",
      "2021-10-31 02:45:00  7853.15\n",
      "\n",
      "Antall ganger hvert tidspunkt forekommer:\n",
      "\n",
      "           datetime  Antall forekomster\n",
      "2011-10-30 02:00:00                   2\n",
      "2018-10-28 02:45:00                   2\n",
      "2016-10-30 02:15:00                   2\n",
      "2016-10-30 02:30:00                   2\n",
      "2016-10-30 02:45:00                   2\n",
      "2017-10-29 02:00:00                   2\n",
      "2017-10-29 02:15:00                   2\n",
      "2017-10-29 02:30:00                   2\n",
      "2017-10-29 02:45:00                   2\n",
      "2018-10-28 02:00:00                   2\n",
      "2018-10-28 02:15:00                   2\n",
      "2018-10-28 02:30:00                   2\n",
      "2019-10-27 02:00:00                   2\n",
      "2011-10-30 02:15:00                   2\n",
      "2019-10-27 02:15:00                   2\n",
      "2019-10-27 02:30:00                   2\n",
      "2019-10-27 02:45:00                   2\n",
      "2020-10-25 02:00:00                   2\n",
      "2020-10-25 02:15:00                   2\n",
      "2020-10-25 02:30:00                   2\n",
      "2020-10-25 02:45:00                   2\n",
      "2021-10-31 02:00:00                   2\n",
      "2021-10-31 02:15:00                   2\n",
      "2021-10-31 02:30:00                   2\n",
      "2016-10-30 02:00:00                   2\n",
      "2015-10-25 02:45:00                   2\n",
      "2015-10-25 02:30:00                   2\n",
      "2015-10-25 02:15:00                   2\n",
      "2011-10-30 02:30:00                   2\n",
      "2011-10-30 02:45:00                   2\n",
      "2012-10-28 02:00:00                   2\n",
      "2012-10-28 02:15:00                   2\n",
      "2012-10-28 02:30:00                   2\n",
      "2012-10-28 02:45:00                   2\n",
      "2013-10-27 02:00:00                   2\n",
      "2013-10-27 02:15:00                   2\n",
      "2013-10-27 02:30:00                   2\n",
      "2013-10-27 02:45:00                   2\n",
      "2014-04-07 03:15:00                   2\n",
      "2014-06-20 14:00:00                   2\n",
      "2014-06-20 15:00:00                   2\n",
      "2014-06-25 11:00:00                   2\n",
      "2014-06-25 12:15:00                   2\n",
      "2014-06-25 14:00:00                   2\n",
      "2014-10-26 02:00:00                   2\n",
      "2014-10-26 02:15:00                   2\n",
      "2014-10-26 02:30:00                   2\n",
      "2014-10-26 02:45:00                   2\n",
      "2015-10-25 02:00:00                   2\n",
      "2021-10-31 02:45:00                   2\n",
      "\n",
      "Duplikatene er også lagret i 'dupliserte_tidspunkter.csv'.\n"
     ]
    }
   ],
   "source": [
    "%run dublikater.py"
   ]
  },
  {
   "cell_type": "markdown",
   "metadata": {},
   "source": [
    "Over ser man at det finnes mange dublikater i det orginale datasettet. Disse blir lagret i sin egen csv fil for videre bruk."
   ]
  },
  {
   "cell_type": "code",
   "execution_count": 14,
   "metadata": {},
   "outputs": [
    {
     "name": "stderr",
     "output_type": "stream",
     "text": [
      "/Users/belvaolsen/Documents/git/miljø_prosjekt_tdt4114/Mappeprosjekt_Milj-dataanalyse/notebooks/lage_komplett_sett.py:45: FutureWarning: The behavior of DataFrame concatenation with empty or all-NA entries is deprecated. In a future version, this will no longer exclude empty or all-NA columns when determining the result dtypes. To retain the old behavior, exclude the relevant entries before the concat operation.\n",
      "  df_komplett = pd.concat([df_germany, manglende_intervaller_df])\n"
     ]
    },
    {
     "name": "stdout",
     "output_type": "stream",
     "text": [
      "Data med utfylte verdier og fjernede duplikater er lagret som 'komplett_data_med_utfylte_mengder.csv'.\n"
     ]
    }
   ],
   "source": [
    "%run lage_komplett_sett.py"
   ]
  },
  {
   "cell_type": "markdown",
   "metadata": {},
   "source": [
    "Over lages det nye komplette datasettet med utfylte manglende verdier og fjerning av alle dublikater. Det komplette datasettet blir lagret i en ny csv fil som vil bli bruk videre i mappe del 2. "
   ]
  },
  {
   "cell_type": "code",
   "execution_count": 1,
   "metadata": {},
   "outputs": [
    {
     "name": "stdout",
     "output_type": "stream",
     "text": [
      "<class 'pandas.core.frame.DataFrame'>\n",
      "RangeIndex: 385568 entries, 0 to 385567\n",
      "Data columns (total 2 columns):\n",
      " #   Column    Non-Null Count   Dtype         \n",
      "---  ------    --------------   -----         \n",
      " 0   datetime  385568 non-null  datetime64[ns]\n",
      " 1   MW        385568 non-null  float64       \n",
      "dtypes: datetime64[ns](1), float64(1)\n",
      "memory usage: 5.9 MB\n",
      "None\n",
      "             datetime      MW\n",
      "0 2011-01-01 00:00:00  3416.0\n",
      "1 2011-01-01 00:15:00  4755.0\n",
      "2 2011-01-01 00:30:00  4939.0\n",
      "3 2011-01-01 00:45:00  4939.0\n",
      "4 2011-01-01 01:00:00  4998.0\n"
     ]
    }
   ],
   "source": [
    "\n",
    "import pandas as pd\n",
    "df_komplett = pd.read_csv(\"../data/komplett_data_med_utfylte_mengder.csv\")\n",
    "#Konverter 'dt'-kolonnen tilbake til datetime-format\n",
    "df_komplett['datetime'] = pd.to_datetime(df_komplett['datetime'])\n",
    "\n",
    "print(df_komplett.info())\n",
    "print(df_komplett.head())\n"
   ]
  }
 ],
 "metadata": {
  "kernelspec": {
   "display_name": "Python 3",
   "language": "python",
   "name": "python3"
  },
  "language_info": {
   "codemirror_mode": {
    "name": "ipython",
    "version": 3
   },
   "file_extension": ".py",
   "mimetype": "text/x-python",
   "name": "python",
   "nbconvert_exporter": "python",
   "pygments_lexer": "ipython3",
   "version": "3.13.1"
  }
 },
 "nbformat": 4,
 "nbformat_minor": 2
}
