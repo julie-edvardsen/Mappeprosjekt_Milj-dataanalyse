{
 "cells": [
  {
   "cell_type": "code",
   "execution_count": 1,
   "metadata": {},
   "outputs": [],
   "source": [
    "#Importering av biblioteker\n",
    "import matplotlib.pyplot as plt\n",
    "import pandas as pd\n",
    "import numpy as np\n",
    "import seaborn as sns\n",
    "import ipywidgets as widgets\n",
    "from IPython.display import display\n",
    "import calendar\n",
    "\n",
    "#Plotly\n",
    "import plotly.express as px\n",
    "\n",
    "#Bokeh\n",
    "from bokeh.plotting import figure, show\n",
    "from bokeh.io import output_notebook\n",
    "\n",
    "df = pd.read_csv('komplett_data_med_utfylte_mengder.csv',parse_dates=['datetime'])\n",
    "\n"
   ]
  },
  {
   "cell_type": "code",
   "execution_count": 2,
   "metadata": {},
   "outputs": [],
   "source": [
    "df_2011 = df[df['datetime'].dt.year == 2011]\n",
    "df_2012 = df[df['datetime'].dt.year == 2012]\n",
    "df_2013 = df[df['datetime'].dt.year == 2013]\n",
    "df_2014 = df[df['datetime'].dt.year == 2014]\n",
    "df_2015 = df[df['datetime'].dt.year == 2015]\n",
    "df_2016 = df[df['datetime'].dt.year == 2016]\n",
    "df_2017 = df[df['datetime'].dt.year == 2017]\n",
    "df_2018 = df[df['datetime'].dt.year == 2018]\n",
    "df_2019 = df[df['datetime'].dt.year == 2019]\n",
    "df_2020 = df[df['datetime'].dt.year == 2020]\n",
    "df_2021 = df[df['datetime'].dt.year == 2021]\n",
    "\n",
    "måneder_norsk = ['Januar', 'Februar', 'Mars', 'April', 'Mai', 'Juni',\n",
    "                 'Juli', 'August', 'September', 'Oktober', 'November', 'Desember']\n",
    "år_liste = list(range(2011, 2022)) \n"
   ]
  },
  {
   "cell_type": "code",
   "execution_count": 24,
   "metadata": {},
   "outputs": [
    {
     "data": {
      "application/vnd.jupyter.widget-view+json": {
       "model_id": "0e96f32e157a41e4827a6d27a69b225a",
       "version_major": 2,
       "version_minor": 0
      },
      "text/plain": [
       "HBox(children=(VBox(children=(Dropdown(description='År 1:', options=(2011, 2012, 2013, 2014, 2015, 2016, 2017,…"
      ]
     },
     "metadata": {},
     "output_type": "display_data"
    },
    {
     "data": {
      "application/vnd.jupyter.widget-view+json": {
       "model_id": "0d0de5a2817541708baabbd30ac72839",
       "version_major": 2,
       "version_minor": 0
      },
      "text/plain": [
       "HBox(children=(Output(), HTML(value='\\n    <div style=\"border:1px solid #ccc; border-radius:8px; background-co…"
      ]
     },
     "metadata": {},
     "output_type": "display_data"
    }
   ],
   "source": [
    "\n",
    "måned_options = [(navn, i) for i, navn in enumerate(måneder_norsk, start=1)]\n",
    "\n",
    "# Dropdown many for første periode\n",
    "år_1 = widgets.Dropdown(options=år_liste, value=2011, description=\"År 1:\")\n",
    "måned_1 = widgets.Dropdown(options=måned_options, value=1, description=\"Måned 1:\")\n",
    "\n",
    "# Dropdown many for andre periode\n",
    "år_2 = widgets.Dropdown(options=år_liste, value=2021, description=\"År 2:\")\n",
    "måned_2 = widgets.Dropdown(options=måned_options, value=1, description=\"Måned 2:\")\n",
    "\n",
    "# Dropbdown meny for visningsalternativer\n",
    "visningstype = widgets.Dropdown(options=[\"Linjegraf\", \"Søylediagram\", \"Boksplott\"],\n",
    "    value=\"Linjegraf\", description=\"Visning:\")\n",
    "\n",
    "# info boks om produsert MW\n",
    "info_boks = widgets.HTML()\n",
    "info_boks.layout = widgets.Layout(width='320px', padding='10px 20px')\n",
    "\n",
    "# Funksjon for å hente og tilpasse data\n",
    "def hent_data(år, måned):\n",
    "    navn = måneder_norsk[måned - 1]\n",
    "    data = df[(df[\"datetime\"].dt.year == år) & (df[\"datetime\"].dt.month == måned)].copy()\n",
    "    data[\"visningstid\"] = data[\"datetime\"].apply(lambda x: x.replace(year=2025, month=1))\n",
    "    data[\"label\"] = f\"{navn} {år}\"\n",
    "    return data\n",
    "\n",
    "# Funksjon som lager plottet\n",
    "def sammenlign_plot(år_1, måned_1, år_2, måned_2, visningstype):\n",
    "    data_1 = hent_data(år_1, måned_1)\n",
    "    data_2 = hent_data(år_2, måned_2)\n",
    "\n",
    "    if data_1.empty or data_2.empty:\n",
    "        info_boks.value = \"<b>En eller begge valgte perioder har ingen tilgjengelig data.</b>\"\n",
    "        return\n",
    "\n",
    "    samlet = pd.concat([data_1, data_2])\n",
    "\n",
    "    # Velg graf basert på visningstype\n",
    "    if visningstype == \"Linjegraf\":\n",
    "        fig = px.line(\n",
    "            samlet, x=\"visningstid\", y=\"MW\", color=\"label\",\n",
    "            title=f\"Sammenligning av periode: {data_1['label'].iloc[0]} og {data_2['label'].iloc[0]}\",\n",
    "            labels={\"visningstid\": \"Tid i måneden\", \"MW\": \"Megawatt (MW)\"}\n",
    "        )\n",
    "        fig.update_xaxes(tickformat=\"%d\")\n",
    "        fig.update_layout(hovermode=\"x unified\")\n",
    "\n",
    "    elif visningstype == \"Søylediagram\":\n",
    "        totals = samlet.groupby(\"label\")[\"MW\"].sum().reset_index()\n",
    "        fig = px.bar(\n",
    "            totals, x=\"label\", y=\"MW\", color=\"label\",\n",
    "            title=\"Total MW-produksjon i valgt måned\",\n",
    "            labels={\"MW\": \"Megawatt (MW)\", \"label\": \"Periode\"}\n",
    "        )\n",
    "\n",
    "    elif visningstype == \"Boksplott\":\n",
    "        fig = px.box(\n",
    "            samlet, x=\"label\", y=\"MW\", color=\"label\",\n",
    "            title=\"Fordeling av MW-produksjon per periode\",\n",
    "            labels={\"MW\": \"Megawatt (MW)\", \"label\": \"Periode\"}\n",
    "        )\n",
    "\n",
    "    fig.show()\n",
    "\n",
    "    # Beregn totalsummer og vis i infoboks\n",
    "    total_1 = int(data_1[\"MW\"].sum())\n",
    "    total_2 = int(data_2[\"MW\"].sum())\n",
    "    forskjell = total_2 - total_1\n",
    "    tegn = \"+\" if forskjell >= 0 else \"\"\n",
    "\n",
    "    info_boks.value = f\"\"\"\n",
    "    <div style=\"border:1px solid #ccc; border-radius:8px; background-color:#f9f9f9; padding:10px 15px;\">\n",
    "      <h4 style='margin-bottom:6px;'>Totalt produsert MW i periodene:</h4>\n",
    "      <ul style='margin-top:0'>\n",
    "        <li><b>{data_1['label'].iloc[0]}</b>: {total_1:,} MW</li>\n",
    "        <li><b>{data_2['label'].iloc[0]}</b>: {total_2:,} MW</li>\n",
    "        <li><b>Forskjellen fra periode 1 til 2:</b> {tegn}{forskjell:,} MW</li>\n",
    "      </ul>\n",
    "    </div>\n",
    "    \"\"\"\n",
    "\n",
    "# Layout for menyvalg og interaktiv oppdatering\n",
    "venstre = widgets.VBox([år_1, måned_1, visningstype])\n",
    "høyre = widgets.VBox([år_2, måned_2])\n",
    "layout = widgets.HBox([venstre, høyre])\n",
    "interaktiv = widgets.interactive_output(\n",
    "    sammenlign_plot,\n",
    "    {\n",
    "        \"år_1\": år_1, \"måned_1\": måned_1,\n",
    "        \"år_2\": år_2, \"måned_2\": måned_2,\n",
    "        \"visningstype\": visningstype\n",
    "    }\n",
    ")\n",
    "graf_og_info = widgets.HBox([interaktiv, info_boks])\n",
    "\n",
    "# Vis alt\n",
    "display(layout, graf_og_info)\n"
   ]
  }
 ],
 "metadata": {
  "kernelspec": {
   "display_name": "gruppe_venv",
   "language": "python",
   "name": "python3"
  },
  "language_info": {
   "codemirror_mode": {
    "name": "ipython",
    "version": 3
   },
   "file_extension": ".py",
   "mimetype": "text/x-python",
   "name": "python",
   "nbconvert_exporter": "python",
   "pygments_lexer": "ipython3",
   "version": "3.13.1"
  }
 },
 "nbformat": 4,
 "nbformat_minor": 2
}
